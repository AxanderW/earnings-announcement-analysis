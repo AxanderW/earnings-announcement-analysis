{
 "cells": [
  {
   "cell_type": "markdown",
   "metadata": {},
   "source": [
    "### The purpose of this notebook is to perform data exploration of stock price change"
   ]
  },
  {
   "cell_type": "markdown",
   "metadata": {},
   "source": [
    "## Analysis\n",
    "<h4>Categories:</h4>\n",
    "<ol>\n",
    "    <li>Increase in preceding week, increase in first trading day after announcement</li>\n",
    "    <li>Increase in preceding week, decrease in first trading day after announcement</li>\n",
    "    <li>Decrease in preceding week, increase in first trading day after announcement</li>\n",
    "    <li>Decrease in preceding week, decrease in first trading day after announcement</li>\n",
    "</ol>\n",
    "<h4>Depdent Variables:</h4>\n",
    "<p>t+2: price change from day t+1 close to day t+2 close</p>\n",
    "\n",
    "<h4>Indepdent Variables:</h4>\n",
    "<ol>\n",
    "    <li>t-7:Price change in the week preceding the announcement</li>\n",
    "    <li>t0:Price change from the closing price immediately preceding the announcement to the open price immediately after the announcement</li>\n",
    "    <li>t+1:Price change from the open on day t+1 to the close on day t+1</li>\n",
    "</ol>"
   ]
  },
  {
   "cell_type": "markdown",
   "metadata": {},
   "source": [
    "#### Import libraries"
   ]
  },
  {
   "cell_type": "code",
   "execution_count": 1,
   "metadata": {},
   "outputs": [],
   "source": [
    "import numpy as np\n",
    "import pandas as pd\n",
    "from sklearn.linear_model import LinearRegression\n",
    "from sklearn.preprocessing import LabelEncoder, StandardScaler\n",
    "from sklearn.model_selection import train_test_split\n",
    "import seaborn as sns\n",
    "import statsmodels.formula.api as smf\n",
    "from sklearn import metrics\n",
    "import matplotlib.pyplot as plt\n",
    "\n",
    "# allow plots to appear directly in the notebook\n",
    "%matplotlib inline"
   ]
  },
  {
   "cell_type": "code",
   "execution_count": 2,
   "metadata": {},
   "outputs": [],
   "source": [
    "pd.set_option('display.max_columns', 50)"
   ]
  },
  {
   "cell_type": "markdown",
   "metadata": {},
   "source": [
    "#### Import dataset"
   ]
  },
  {
   "cell_type": "code",
   "execution_count": 3,
   "metadata": {},
   "outputs": [],
   "source": [
    "fileName = 'data/trade_dates_data.xlsx'"
   ]
  },
  {
   "cell_type": "code",
   "execution_count": 4,
   "metadata": {},
   "outputs": [],
   "source": [
    "sheetName = 'pct_chng_before_mrkt'"
   ]
  },
  {
   "cell_type": "code",
   "execution_count": 5,
   "metadata": {},
   "outputs": [],
   "source": [
    "USECOLS = [\n",
    "            'ticker',\n",
    "            'company',\n",
    "            'earnings_flag',\n",
    "            'earnings_ann_date',\n",
    "            'ann_price_open',\n",
    "            'ann_price_close',\n",
    "            'week preceeding date',\n",
    "            'week_price_open',\n",
    "            'week_price_close',\n",
    "            'pct_chng_t-7',\n",
    "            'week_proceed_code',\n",
    "            'day preceeding date',\n",
    "            'day_b4_price_open',\n",
    "            'day_b4_price_close',\n",
    "            '1 trade day post',\n",
    "            'day_after_price_open',\n",
    "            'day_after_price_close',\n",
    "            'close t+1 diff open t+1',\n",
    "            'day_after_code',\n",
    "            'pct_chng_t0',\n",
    "            'pct_chng_t+1',\n",
    "            '2 trade days post',\n",
    "            '2_days_after_price_open',\n",
    "            '2_days_after_price_close',\n",
    "            'pct_chng_t+2',\n",
    "            'category',\n",
    "            'meets_threshold',\n",
    "            ]"
   ]
  },
  {
   "cell_type": "code",
   "execution_count": 6,
   "metadata": {},
   "outputs": [],
   "source": [
    "b4_data = pd.read_excel(fileName,sheet_name = sheetName, usecols=USECOLS, parse_dates=True)"
   ]
  },
  {
   "cell_type": "markdown",
   "metadata": {},
   "source": [
    "#### View data"
   ]
  },
  {
   "cell_type": "code",
   "execution_count": 7,
   "metadata": {},
   "outputs": [
    {
     "data": {
      "text/html": [
       "<div>\n",
       "<style scoped>\n",
       "    .dataframe tbody tr th:only-of-type {\n",
       "        vertical-align: middle;\n",
       "    }\n",
       "\n",
       "    .dataframe tbody tr th {\n",
       "        vertical-align: top;\n",
       "    }\n",
       "\n",
       "    .dataframe thead th {\n",
       "        text-align: right;\n",
       "    }\n",
       "</style>\n",
       "<table border=\"1\" class=\"dataframe\">\n",
       "  <thead>\n",
       "    <tr style=\"text-align: right;\">\n",
       "      <th></th>\n",
       "      <th>ticker</th>\n",
       "      <th>company</th>\n",
       "      <th>earnings_flag</th>\n",
       "      <th>earnings_ann_date</th>\n",
       "      <th>ann_price_open</th>\n",
       "      <th>ann_price_close</th>\n",
       "      <th>week preceeding date</th>\n",
       "      <th>week_price_open</th>\n",
       "      <th>week_price_close</th>\n",
       "      <th>pct_chng_t-7</th>\n",
       "      <th>week_proceed_code</th>\n",
       "      <th>day preceeding date</th>\n",
       "      <th>day_b4_price_open</th>\n",
       "      <th>day_b4_price_close</th>\n",
       "      <th>1 trade day post</th>\n",
       "      <th>day_after_price_open</th>\n",
       "      <th>day_after_price_close</th>\n",
       "      <th>close t+1 diff open t+1</th>\n",
       "      <th>day_after_code</th>\n",
       "      <th>pct_chng_t0</th>\n",
       "      <th>pct_chng_t+1</th>\n",
       "      <th>2 trade days post</th>\n",
       "      <th>2_days_after_price_open</th>\n",
       "      <th>2_days_after_price_close</th>\n",
       "      <th>pct_chng_t+2</th>\n",
       "      <th>category</th>\n",
       "      <th>meets_threshold</th>\n",
       "    </tr>\n",
       "  </thead>\n",
       "  <tbody>\n",
       "    <tr>\n",
       "      <th>0</th>\n",
       "      <td>AAMC</td>\n",
       "      <td>Altisource Asset Management Corp</td>\n",
       "      <td>Before Market Open</td>\n",
       "      <td>2020-11-05</td>\n",
       "      <td>22.980000</td>\n",
       "      <td>22.980000</td>\n",
       "      <td>2020-10-28</td>\n",
       "      <td>22.290001</td>\n",
       "      <td>23.000000</td>\n",
       "      <td>-0.000870</td>\n",
       "      <td>decrease</td>\n",
       "      <td>2020-11-03</td>\n",
       "      <td>24.000000</td>\n",
       "      <td>23.000000</td>\n",
       "      <td>2020-11-05</td>\n",
       "      <td>22.980000</td>\n",
       "      <td>22.980000</td>\n",
       "      <td>0.000000</td>\n",
       "      <td>no change</td>\n",
       "      <td>-0.000870</td>\n",
       "      <td>0.000000</td>\n",
       "      <td>2020-11-06</td>\n",
       "      <td>22.059999</td>\n",
       "      <td>21.750000</td>\n",
       "      <td>-0.056552</td>\n",
       "      <td>0</td>\n",
       "      <td>0</td>\n",
       "    </tr>\n",
       "    <tr>\n",
       "      <th>1</th>\n",
       "      <td>AES</td>\n",
       "      <td>AES Corp</td>\n",
       "      <td>Before Market Open</td>\n",
       "      <td>2020-11-06</td>\n",
       "      <td>20.910000</td>\n",
       "      <td>20.410000</td>\n",
       "      <td>2020-10-29</td>\n",
       "      <td>19.320000</td>\n",
       "      <td>19.530001</td>\n",
       "      <td>0.045059</td>\n",
       "      <td>increase</td>\n",
       "      <td>2020-11-04</td>\n",
       "      <td>20.260000</td>\n",
       "      <td>19.940001</td>\n",
       "      <td>2020-11-06</td>\n",
       "      <td>20.910000</td>\n",
       "      <td>20.410000</td>\n",
       "      <td>-0.024498</td>\n",
       "      <td>decrease</td>\n",
       "      <td>0.046389</td>\n",
       "      <td>-0.024498</td>\n",
       "      <td>2020-11-09</td>\n",
       "      <td>21.930000</td>\n",
       "      <td>20.969999</td>\n",
       "      <td>0.026705</td>\n",
       "      <td>2</td>\n",
       "      <td>1</td>\n",
       "    </tr>\n",
       "    <tr>\n",
       "      <th>2</th>\n",
       "      <td>ALE</td>\n",
       "      <td>ALLETE Inc</td>\n",
       "      <td>Before Market Open</td>\n",
       "      <td>2020-11-09</td>\n",
       "      <td>55.660000</td>\n",
       "      <td>57.223980</td>\n",
       "      <td>2020-10-30</td>\n",
       "      <td>51.799999</td>\n",
       "      <td>51.004200</td>\n",
       "      <td>0.121946</td>\n",
       "      <td>increase</td>\n",
       "      <td>2020-11-05</td>\n",
       "      <td>54.000000</td>\n",
       "      <td>53.426846</td>\n",
       "      <td>2020-11-09</td>\n",
       "      <td>55.660000</td>\n",
       "      <td>57.223980</td>\n",
       "      <td>0.027331</td>\n",
       "      <td>increase</td>\n",
       "      <td>0.040121</td>\n",
       "      <td>0.027331</td>\n",
       "      <td>2020-11-10</td>\n",
       "      <td>58.700001</td>\n",
       "      <td>57.461300</td>\n",
       "      <td>0.004130</td>\n",
       "      <td>1</td>\n",
       "      <td>1</td>\n",
       "    </tr>\n",
       "    <tr>\n",
       "      <th>3</th>\n",
       "      <td>ALLK</td>\n",
       "      <td>Allakos Inc</td>\n",
       "      <td>Before Market Open</td>\n",
       "      <td>2020-11-09</td>\n",
       "      <td>101.959999</td>\n",
       "      <td>104.220001</td>\n",
       "      <td>2020-10-30</td>\n",
       "      <td>88.000000</td>\n",
       "      <td>95.129997</td>\n",
       "      <td>0.095553</td>\n",
       "      <td>increase</td>\n",
       "      <td>2020-11-05</td>\n",
       "      <td>102.610001</td>\n",
       "      <td>98.870003</td>\n",
       "      <td>2020-11-09</td>\n",
       "      <td>101.959999</td>\n",
       "      <td>104.220001</td>\n",
       "      <td>0.021685</td>\n",
       "      <td>increase</td>\n",
       "      <td>0.030306</td>\n",
       "      <td>0.021685</td>\n",
       "      <td>2020-11-10</td>\n",
       "      <td>100.930000</td>\n",
       "      <td>100.989998</td>\n",
       "      <td>-0.031983</td>\n",
       "      <td>1</td>\n",
       "      <td>1</td>\n",
       "    </tr>\n",
       "    <tr>\n",
       "      <th>4</th>\n",
       "      <td>AMPH</td>\n",
       "      <td>Amphastar Pharmaceuticals Inc</td>\n",
       "      <td>Before Market Open</td>\n",
       "      <td>2020-11-06</td>\n",
       "      <td>20.790001</td>\n",
       "      <td>19.200001</td>\n",
       "      <td>2020-10-29</td>\n",
       "      <td>19.559999</td>\n",
       "      <td>20.090000</td>\n",
       "      <td>-0.044301</td>\n",
       "      <td>decrease</td>\n",
       "      <td>2020-11-04</td>\n",
       "      <td>20.230000</td>\n",
       "      <td>20.740000</td>\n",
       "      <td>2020-11-06</td>\n",
       "      <td>20.790001</td>\n",
       "      <td>19.200001</td>\n",
       "      <td>-0.082813</td>\n",
       "      <td>decrease</td>\n",
       "      <td>0.002405</td>\n",
       "      <td>-0.082813</td>\n",
       "      <td>2020-11-09</td>\n",
       "      <td>19.780001</td>\n",
       "      <td>19.010000</td>\n",
       "      <td>-0.009995</td>\n",
       "      <td>4</td>\n",
       "      <td>1</td>\n",
       "    </tr>\n",
       "  </tbody>\n",
       "</table>\n",
       "</div>"
      ],
      "text/plain": [
       "  ticker                           company       earnings_flag  \\\n",
       "0   AAMC  Altisource Asset Management Corp  Before Market Open   \n",
       "1    AES                          AES Corp  Before Market Open   \n",
       "2    ALE                        ALLETE Inc  Before Market Open   \n",
       "3   ALLK                       Allakos Inc  Before Market Open   \n",
       "4   AMPH     Amphastar Pharmaceuticals Inc  Before Market Open   \n",
       "\n",
       "  earnings_ann_date  ann_price_open  ann_price_close week preceeding date  \\\n",
       "0        2020-11-05       22.980000        22.980000           2020-10-28   \n",
       "1        2020-11-06       20.910000        20.410000           2020-10-29   \n",
       "2        2020-11-09       55.660000        57.223980           2020-10-30   \n",
       "3        2020-11-09      101.959999       104.220001           2020-10-30   \n",
       "4        2020-11-06       20.790001        19.200001           2020-10-29   \n",
       "\n",
       "   week_price_open  week_price_close  pct_chng_t-7 week_proceed_code  \\\n",
       "0        22.290001         23.000000     -0.000870          decrease   \n",
       "1        19.320000         19.530001      0.045059          increase   \n",
       "2        51.799999         51.004200      0.121946          increase   \n",
       "3        88.000000         95.129997      0.095553          increase   \n",
       "4        19.559999         20.090000     -0.044301          decrease   \n",
       "\n",
       "  day preceeding date  day_b4_price_open  day_b4_price_close 1 trade day post  \\\n",
       "0          2020-11-03          24.000000           23.000000       2020-11-05   \n",
       "1          2020-11-04          20.260000           19.940001       2020-11-06   \n",
       "2          2020-11-05          54.000000           53.426846       2020-11-09   \n",
       "3          2020-11-05         102.610001           98.870003       2020-11-09   \n",
       "4          2020-11-04          20.230000           20.740000       2020-11-06   \n",
       "\n",
       "   day_after_price_open  day_after_price_close  close t+1 diff open t+1  \\\n",
       "0             22.980000              22.980000                 0.000000   \n",
       "1             20.910000              20.410000                -0.024498   \n",
       "2             55.660000              57.223980                 0.027331   \n",
       "3            101.959999             104.220001                 0.021685   \n",
       "4             20.790001              19.200001                -0.082813   \n",
       "\n",
       "  day_after_code  pct_chng_t0  pct_chng_t+1 2 trade days post  \\\n",
       "0      no change    -0.000870      0.000000        2020-11-06   \n",
       "1       decrease     0.046389     -0.024498        2020-11-09   \n",
       "2       increase     0.040121      0.027331        2020-11-10   \n",
       "3       increase     0.030306      0.021685        2020-11-10   \n",
       "4       decrease     0.002405     -0.082813        2020-11-09   \n",
       "\n",
       "   2_days_after_price_open  2_days_after_price_close  pct_chng_t+2  category  \\\n",
       "0                22.059999                 21.750000     -0.056552         0   \n",
       "1                21.930000                 20.969999      0.026705         2   \n",
       "2                58.700001                 57.461300      0.004130         1   \n",
       "3               100.930000                100.989998     -0.031983         1   \n",
       "4                19.780001                 19.010000     -0.009995         4   \n",
       "\n",
       "   meets_threshold  \n",
       "0                0  \n",
       "1                1  \n",
       "2                1  \n",
       "3                1  \n",
       "4                1  "
      ]
     },
     "execution_count": 7,
     "metadata": {},
     "output_type": "execute_result"
    }
   ],
   "source": [
    "b4_data.head()"
   ]
  },
  {
   "cell_type": "code",
   "execution_count": 8,
   "metadata": {},
   "outputs": [],
   "source": [
    "sheetName_2 = 'pct_chng_after_mrkt'"
   ]
  },
  {
   "cell_type": "code",
   "execution_count": 9,
   "metadata": {},
   "outputs": [],
   "source": [
    "after_data = pd.read_excel(fileName,sheet_name = sheetName_2, usecols=USECOLS, parse_dates=True)"
   ]
  },
  {
   "cell_type": "markdown",
   "metadata": {},
   "source": [
    "#### View data"
   ]
  },
  {
   "cell_type": "code",
   "execution_count": 10,
   "metadata": {},
   "outputs": [
    {
     "data": {
      "text/html": [
       "<div>\n",
       "<style scoped>\n",
       "    .dataframe tbody tr th:only-of-type {\n",
       "        vertical-align: middle;\n",
       "    }\n",
       "\n",
       "    .dataframe tbody tr th {\n",
       "        vertical-align: top;\n",
       "    }\n",
       "\n",
       "    .dataframe thead th {\n",
       "        text-align: right;\n",
       "    }\n",
       "</style>\n",
       "<table border=\"1\" class=\"dataframe\">\n",
       "  <thead>\n",
       "    <tr style=\"text-align: right;\">\n",
       "      <th></th>\n",
       "      <th>ticker</th>\n",
       "      <th>company</th>\n",
       "      <th>earnings_flag</th>\n",
       "      <th>earnings_ann_date</th>\n",
       "      <th>ann_price_open</th>\n",
       "      <th>ann_price_close</th>\n",
       "      <th>week preceeding date</th>\n",
       "      <th>week_price_open</th>\n",
       "      <th>week_price_close</th>\n",
       "      <th>pct_chng_t-7</th>\n",
       "      <th>week_proceed_code</th>\n",
       "      <th>day preceeding date</th>\n",
       "      <th>day_b4_price_open</th>\n",
       "      <th>day_b4_price_close</th>\n",
       "      <th>1 trade day post</th>\n",
       "      <th>day_after_price_open</th>\n",
       "      <th>day_after_price_close</th>\n",
       "      <th>close t+1 diff open t+1</th>\n",
       "      <th>day_after_code</th>\n",
       "      <th>pct_chng_t0</th>\n",
       "      <th>pct_chng_t+1</th>\n",
       "      <th>2 trade days post</th>\n",
       "      <th>2_days_after_price_open</th>\n",
       "      <th>2_days_after_price_close</th>\n",
       "      <th>pct_chng_t+2</th>\n",
       "      <th>category</th>\n",
       "      <th>meets_threshold</th>\n",
       "    </tr>\n",
       "  </thead>\n",
       "  <tbody>\n",
       "    <tr>\n",
       "      <th>0</th>\n",
       "      <td>AAIC</td>\n",
       "      <td>Arlington Asset Investment Corp</td>\n",
       "      <td>After Market Close</td>\n",
       "      <td>2020-11-03</td>\n",
       "      <td>2.63</td>\n",
       "      <td>2.670000</td>\n",
       "      <td>2020-10-27</td>\n",
       "      <td>2.680000</td>\n",
       "      <td>2.56</td>\n",
       "      <td>0.042969</td>\n",
       "      <td>increase</td>\n",
       "      <td>2020-11-02</td>\n",
       "      <td>2.46</td>\n",
       "      <td>2.58</td>\n",
       "      <td>2020-11-04</td>\n",
       "      <td>2.690000</td>\n",
       "      <td>2.780000</td>\n",
       "      <td>0.032374</td>\n",
       "      <td>increase</td>\n",
       "      <td>0.040892</td>\n",
       "      <td>0.032374</td>\n",
       "      <td>2020-11-05</td>\n",
       "      <td>2.770000</td>\n",
       "      <td>2.670000</td>\n",
       "      <td>-0.041198</td>\n",
       "      <td>1.0</td>\n",
       "      <td>1.0</td>\n",
       "    </tr>\n",
       "    <tr>\n",
       "      <th>1</th>\n",
       "      <td>AAOI</td>\n",
       "      <td>Applied Optoelectronics Inc</td>\n",
       "      <td>After Market Close</td>\n",
       "      <td>2020-11-05</td>\n",
       "      <td>9.17</td>\n",
       "      <td>10.020000</td>\n",
       "      <td>2020-10-29</td>\n",
       "      <td>9.570000</td>\n",
       "      <td>9.36</td>\n",
       "      <td>0.070513</td>\n",
       "      <td>increase</td>\n",
       "      <td>2020-11-04</td>\n",
       "      <td>9.17</td>\n",
       "      <td>9.07</td>\n",
       "      <td>2020-11-06</td>\n",
       "      <td>8.114000</td>\n",
       "      <td>7.690000</td>\n",
       "      <td>-0.055137</td>\n",
       "      <td>decrease</td>\n",
       "      <td>-0.117821</td>\n",
       "      <td>-0.055137</td>\n",
       "      <td>2020-11-09</td>\n",
       "      <td>7.910000</td>\n",
       "      <td>7.715000</td>\n",
       "      <td>0.003240</td>\n",
       "      <td>2.0</td>\n",
       "      <td>1.0</td>\n",
       "    </tr>\n",
       "    <tr>\n",
       "      <th>2</th>\n",
       "      <td>ADMP</td>\n",
       "      <td>Adamis Pharmaceuticals Corp</td>\n",
       "      <td>After Market Close</td>\n",
       "      <td>2020-11-09</td>\n",
       "      <td>0.78</td>\n",
       "      <td>0.720000</td>\n",
       "      <td>2020-11-02</td>\n",
       "      <td>0.710000</td>\n",
       "      <td>0.71</td>\n",
       "      <td>0.014085</td>\n",
       "      <td>increase</td>\n",
       "      <td>2020-11-06</td>\n",
       "      <td>0.70</td>\n",
       "      <td>0.72</td>\n",
       "      <td>2020-11-10</td>\n",
       "      <td>0.700000</td>\n",
       "      <td>0.690000</td>\n",
       "      <td>-0.014493</td>\n",
       "      <td>decrease</td>\n",
       "      <td>-0.028571</td>\n",
       "      <td>-0.014493</td>\n",
       "      <td>2020-11-11</td>\n",
       "      <td>0.700000</td>\n",
       "      <td>0.720000</td>\n",
       "      <td>0.041667</td>\n",
       "      <td>2.0</td>\n",
       "      <td>0.0</td>\n",
       "    </tr>\n",
       "    <tr>\n",
       "      <th>3</th>\n",
       "      <td>AE</td>\n",
       "      <td>Adams Resources &amp; Energy Inc</td>\n",
       "      <td>After Market Close</td>\n",
       "      <td>2020-11-05</td>\n",
       "      <td>20.32</td>\n",
       "      <td>21.120001</td>\n",
       "      <td>2020-10-29</td>\n",
       "      <td>19.700001</td>\n",
       "      <td>19.33</td>\n",
       "      <td>0.092602</td>\n",
       "      <td>increase</td>\n",
       "      <td>2020-11-04</td>\n",
       "      <td>19.50</td>\n",
       "      <td>19.00</td>\n",
       "      <td>2020-11-06</td>\n",
       "      <td>21.790001</td>\n",
       "      <td>21.129999</td>\n",
       "      <td>-0.031235</td>\n",
       "      <td>decrease</td>\n",
       "      <td>0.128040</td>\n",
       "      <td>-0.031235</td>\n",
       "      <td>2020-11-09</td>\n",
       "      <td>21.799999</td>\n",
       "      <td>23.889999</td>\n",
       "      <td>0.115530</td>\n",
       "      <td>2.0</td>\n",
       "      <td>1.0</td>\n",
       "    </tr>\n",
       "    <tr>\n",
       "      <th>4</th>\n",
       "      <td>AESE</td>\n",
       "      <td>Allied Esports Entertainment Inc</td>\n",
       "      <td>After Market Close</td>\n",
       "      <td>2020-11-09</td>\n",
       "      <td>1.10</td>\n",
       "      <td>0.988000</td>\n",
       "      <td>2020-11-02</td>\n",
       "      <td>0.971000</td>\n",
       "      <td>0.94</td>\n",
       "      <td>0.051064</td>\n",
       "      <td>increase</td>\n",
       "      <td>2020-11-06</td>\n",
       "      <td>1.02</td>\n",
       "      <td>1.06</td>\n",
       "      <td>2020-11-10</td>\n",
       "      <td>0.980000</td>\n",
       "      <td>0.926000</td>\n",
       "      <td>-0.058315</td>\n",
       "      <td>decrease</td>\n",
       "      <td>-0.081633</td>\n",
       "      <td>-0.058315</td>\n",
       "      <td>2020-11-11</td>\n",
       "      <td>0.930000</td>\n",
       "      <td>0.920000</td>\n",
       "      <td>-0.006522</td>\n",
       "      <td>2.0</td>\n",
       "      <td>1.0</td>\n",
       "    </tr>\n",
       "  </tbody>\n",
       "</table>\n",
       "</div>"
      ],
      "text/plain": [
       "  ticker                           company       earnings_flag  \\\n",
       "0   AAIC   Arlington Asset Investment Corp  After Market Close   \n",
       "1   AAOI       Applied Optoelectronics Inc  After Market Close   \n",
       "2   ADMP       Adamis Pharmaceuticals Corp  After Market Close   \n",
       "3     AE      Adams Resources & Energy Inc  After Market Close   \n",
       "4   AESE  Allied Esports Entertainment Inc  After Market Close   \n",
       "\n",
       "  earnings_ann_date  ann_price_open  ann_price_close week preceeding date  \\\n",
       "0        2020-11-03            2.63         2.670000           2020-10-27   \n",
       "1        2020-11-05            9.17        10.020000           2020-10-29   \n",
       "2        2020-11-09            0.78         0.720000           2020-11-02   \n",
       "3        2020-11-05           20.32        21.120001           2020-10-29   \n",
       "4        2020-11-09            1.10         0.988000           2020-11-02   \n",
       "\n",
       "   week_price_open  week_price_close  pct_chng_t-7 week_proceed_code  \\\n",
       "0         2.680000              2.56      0.042969          increase   \n",
       "1         9.570000              9.36      0.070513          increase   \n",
       "2         0.710000              0.71      0.014085          increase   \n",
       "3        19.700001             19.33      0.092602          increase   \n",
       "4         0.971000              0.94      0.051064          increase   \n",
       "\n",
       "  day preceeding date  day_b4_price_open  day_b4_price_close 1 trade day post  \\\n",
       "0          2020-11-02               2.46                2.58       2020-11-04   \n",
       "1          2020-11-04               9.17                9.07       2020-11-06   \n",
       "2          2020-11-06               0.70                0.72       2020-11-10   \n",
       "3          2020-11-04              19.50               19.00       2020-11-06   \n",
       "4          2020-11-06               1.02                1.06       2020-11-10   \n",
       "\n",
       "   day_after_price_open  day_after_price_close  close t+1 diff open t+1  \\\n",
       "0              2.690000               2.780000                 0.032374   \n",
       "1              8.114000               7.690000                -0.055137   \n",
       "2              0.700000               0.690000                -0.014493   \n",
       "3             21.790001              21.129999                -0.031235   \n",
       "4              0.980000               0.926000                -0.058315   \n",
       "\n",
       "  day_after_code  pct_chng_t0  pct_chng_t+1 2 trade days post  \\\n",
       "0       increase     0.040892      0.032374        2020-11-05   \n",
       "1       decrease    -0.117821     -0.055137        2020-11-09   \n",
       "2       decrease    -0.028571     -0.014493        2020-11-11   \n",
       "3       decrease     0.128040     -0.031235        2020-11-09   \n",
       "4       decrease    -0.081633     -0.058315        2020-11-11   \n",
       "\n",
       "   2_days_after_price_open  2_days_after_price_close  pct_chng_t+2  category  \\\n",
       "0                 2.770000                  2.670000     -0.041198       1.0   \n",
       "1                 7.910000                  7.715000      0.003240       2.0   \n",
       "2                 0.700000                  0.720000      0.041667       2.0   \n",
       "3                21.799999                 23.889999      0.115530       2.0   \n",
       "4                 0.930000                  0.920000     -0.006522       2.0   \n",
       "\n",
       "   meets_threshold  \n",
       "0              1.0  \n",
       "1              1.0  \n",
       "2              0.0  \n",
       "3              1.0  \n",
       "4              1.0  "
      ]
     },
     "execution_count": 10,
     "metadata": {},
     "output_type": "execute_result"
    }
   ],
   "source": [
    "after_data.head()"
   ]
  },
  {
   "cell_type": "markdown",
   "metadata": {},
   "source": [
    "### Filter data for analysis columns only"
   ]
  },
  {
   "cell_type": "code",
   "execution_count": 11,
   "metadata": {},
   "outputs": [],
   "source": [
    "analysis_cols = [\n",
    "            'ticker',\n",
    "            'company',\n",
    "            'earnings_flag',\n",
    "            'pct_chng_t-7',\n",
    "            'pct_chng_t0',\n",
    "            'pct_chng_t+1',\n",
    "            'pct_chng_t+2',\n",
    "            'category',\n",
    "            'meets_threshold',\n",
    "            ]"
   ]
  },
  {
   "cell_type": "code",
   "execution_count": 12,
   "metadata": {},
   "outputs": [],
   "source": [
    "b4_analysis = b4_data[analysis_cols].copy()\n",
    "after_analysis = after_data[analysis_cols].copy()"
   ]
  },
  {
   "cell_type": "markdown",
   "metadata": {},
   "source": [
    "#### View data"
   ]
  },
  {
   "cell_type": "code",
   "execution_count": 13,
   "metadata": {},
   "outputs": [
    {
     "data": {
      "text/html": [
       "<div>\n",
       "<style scoped>\n",
       "    .dataframe tbody tr th:only-of-type {\n",
       "        vertical-align: middle;\n",
       "    }\n",
       "\n",
       "    .dataframe tbody tr th {\n",
       "        vertical-align: top;\n",
       "    }\n",
       "\n",
       "    .dataframe thead th {\n",
       "        text-align: right;\n",
       "    }\n",
       "</style>\n",
       "<table border=\"1\" class=\"dataframe\">\n",
       "  <thead>\n",
       "    <tr style=\"text-align: right;\">\n",
       "      <th></th>\n",
       "      <th>ticker</th>\n",
       "      <th>company</th>\n",
       "      <th>earnings_flag</th>\n",
       "      <th>pct_chng_t-7</th>\n",
       "      <th>pct_chng_t0</th>\n",
       "      <th>pct_chng_t+1</th>\n",
       "      <th>pct_chng_t+2</th>\n",
       "      <th>category</th>\n",
       "      <th>meets_threshold</th>\n",
       "    </tr>\n",
       "  </thead>\n",
       "  <tbody>\n",
       "    <tr>\n",
       "      <th>0</th>\n",
       "      <td>AAMC</td>\n",
       "      <td>Altisource Asset Management Corp</td>\n",
       "      <td>Before Market Open</td>\n",
       "      <td>-0.000870</td>\n",
       "      <td>-0.000870</td>\n",
       "      <td>0.000000</td>\n",
       "      <td>-0.056552</td>\n",
       "      <td>0</td>\n",
       "      <td>0</td>\n",
       "    </tr>\n",
       "    <tr>\n",
       "      <th>1</th>\n",
       "      <td>AES</td>\n",
       "      <td>AES Corp</td>\n",
       "      <td>Before Market Open</td>\n",
       "      <td>0.045059</td>\n",
       "      <td>0.046389</td>\n",
       "      <td>-0.024498</td>\n",
       "      <td>0.026705</td>\n",
       "      <td>2</td>\n",
       "      <td>1</td>\n",
       "    </tr>\n",
       "    <tr>\n",
       "      <th>2</th>\n",
       "      <td>ALE</td>\n",
       "      <td>ALLETE Inc</td>\n",
       "      <td>Before Market Open</td>\n",
       "      <td>0.121946</td>\n",
       "      <td>0.040121</td>\n",
       "      <td>0.027331</td>\n",
       "      <td>0.004130</td>\n",
       "      <td>1</td>\n",
       "      <td>1</td>\n",
       "    </tr>\n",
       "    <tr>\n",
       "      <th>3</th>\n",
       "      <td>ALLK</td>\n",
       "      <td>Allakos Inc</td>\n",
       "      <td>Before Market Open</td>\n",
       "      <td>0.095553</td>\n",
       "      <td>0.030306</td>\n",
       "      <td>0.021685</td>\n",
       "      <td>-0.031983</td>\n",
       "      <td>1</td>\n",
       "      <td>1</td>\n",
       "    </tr>\n",
       "    <tr>\n",
       "      <th>4</th>\n",
       "      <td>AMPH</td>\n",
       "      <td>Amphastar Pharmaceuticals Inc</td>\n",
       "      <td>Before Market Open</td>\n",
       "      <td>-0.044301</td>\n",
       "      <td>0.002405</td>\n",
       "      <td>-0.082813</td>\n",
       "      <td>-0.009995</td>\n",
       "      <td>4</td>\n",
       "      <td>1</td>\n",
       "    </tr>\n",
       "  </tbody>\n",
       "</table>\n",
       "</div>"
      ],
      "text/plain": [
       "  ticker                           company       earnings_flag  pct_chng_t-7  \\\n",
       "0   AAMC  Altisource Asset Management Corp  Before Market Open     -0.000870   \n",
       "1    AES                          AES Corp  Before Market Open      0.045059   \n",
       "2    ALE                        ALLETE Inc  Before Market Open      0.121946   \n",
       "3   ALLK                       Allakos Inc  Before Market Open      0.095553   \n",
       "4   AMPH     Amphastar Pharmaceuticals Inc  Before Market Open     -0.044301   \n",
       "\n",
       "   pct_chng_t0  pct_chng_t+1  pct_chng_t+2  category  meets_threshold  \n",
       "0    -0.000870      0.000000     -0.056552         0                0  \n",
       "1     0.046389     -0.024498      0.026705         2                1  \n",
       "2     0.040121      0.027331      0.004130         1                1  \n",
       "3     0.030306      0.021685     -0.031983         1                1  \n",
       "4     0.002405     -0.082813     -0.009995         4                1  "
      ]
     },
     "execution_count": 13,
     "metadata": {},
     "output_type": "execute_result"
    }
   ],
   "source": [
    "b4_analysis.head()"
   ]
  },
  {
   "cell_type": "code",
   "execution_count": 14,
   "metadata": {},
   "outputs": [
    {
     "data": {
      "text/html": [
       "<div>\n",
       "<style scoped>\n",
       "    .dataframe tbody tr th:only-of-type {\n",
       "        vertical-align: middle;\n",
       "    }\n",
       "\n",
       "    .dataframe tbody tr th {\n",
       "        vertical-align: top;\n",
       "    }\n",
       "\n",
       "    .dataframe thead th {\n",
       "        text-align: right;\n",
       "    }\n",
       "</style>\n",
       "<table border=\"1\" class=\"dataframe\">\n",
       "  <thead>\n",
       "    <tr style=\"text-align: right;\">\n",
       "      <th></th>\n",
       "      <th>ticker</th>\n",
       "      <th>company</th>\n",
       "      <th>earnings_flag</th>\n",
       "      <th>pct_chng_t-7</th>\n",
       "      <th>pct_chng_t0</th>\n",
       "      <th>pct_chng_t+1</th>\n",
       "      <th>pct_chng_t+2</th>\n",
       "      <th>category</th>\n",
       "      <th>meets_threshold</th>\n",
       "    </tr>\n",
       "  </thead>\n",
       "  <tbody>\n",
       "    <tr>\n",
       "      <th>0</th>\n",
       "      <td>AAIC</td>\n",
       "      <td>Arlington Asset Investment Corp</td>\n",
       "      <td>After Market Close</td>\n",
       "      <td>0.042969</td>\n",
       "      <td>0.040892</td>\n",
       "      <td>0.032374</td>\n",
       "      <td>-0.041198</td>\n",
       "      <td>1.0</td>\n",
       "      <td>1.0</td>\n",
       "    </tr>\n",
       "    <tr>\n",
       "      <th>1</th>\n",
       "      <td>AAOI</td>\n",
       "      <td>Applied Optoelectronics Inc</td>\n",
       "      <td>After Market Close</td>\n",
       "      <td>0.070513</td>\n",
       "      <td>-0.117821</td>\n",
       "      <td>-0.055137</td>\n",
       "      <td>0.003240</td>\n",
       "      <td>2.0</td>\n",
       "      <td>1.0</td>\n",
       "    </tr>\n",
       "    <tr>\n",
       "      <th>2</th>\n",
       "      <td>ADMP</td>\n",
       "      <td>Adamis Pharmaceuticals Corp</td>\n",
       "      <td>After Market Close</td>\n",
       "      <td>0.014085</td>\n",
       "      <td>-0.028571</td>\n",
       "      <td>-0.014493</td>\n",
       "      <td>0.041667</td>\n",
       "      <td>2.0</td>\n",
       "      <td>0.0</td>\n",
       "    </tr>\n",
       "    <tr>\n",
       "      <th>3</th>\n",
       "      <td>AE</td>\n",
       "      <td>Adams Resources &amp; Energy Inc</td>\n",
       "      <td>After Market Close</td>\n",
       "      <td>0.092602</td>\n",
       "      <td>0.128040</td>\n",
       "      <td>-0.031235</td>\n",
       "      <td>0.115530</td>\n",
       "      <td>2.0</td>\n",
       "      <td>1.0</td>\n",
       "    </tr>\n",
       "    <tr>\n",
       "      <th>4</th>\n",
       "      <td>AESE</td>\n",
       "      <td>Allied Esports Entertainment Inc</td>\n",
       "      <td>After Market Close</td>\n",
       "      <td>0.051064</td>\n",
       "      <td>-0.081633</td>\n",
       "      <td>-0.058315</td>\n",
       "      <td>-0.006522</td>\n",
       "      <td>2.0</td>\n",
       "      <td>1.0</td>\n",
       "    </tr>\n",
       "  </tbody>\n",
       "</table>\n",
       "</div>"
      ],
      "text/plain": [
       "  ticker                           company       earnings_flag  pct_chng_t-7  \\\n",
       "0   AAIC   Arlington Asset Investment Corp  After Market Close      0.042969   \n",
       "1   AAOI       Applied Optoelectronics Inc  After Market Close      0.070513   \n",
       "2   ADMP       Adamis Pharmaceuticals Corp  After Market Close      0.014085   \n",
       "3     AE      Adams Resources & Energy Inc  After Market Close      0.092602   \n",
       "4   AESE  Allied Esports Entertainment Inc  After Market Close      0.051064   \n",
       "\n",
       "   pct_chng_t0  pct_chng_t+1  pct_chng_t+2  category  meets_threshold  \n",
       "0     0.040892      0.032374     -0.041198       1.0              1.0  \n",
       "1    -0.117821     -0.055137      0.003240       2.0              1.0  \n",
       "2    -0.028571     -0.014493      0.041667       2.0              0.0  \n",
       "3     0.128040     -0.031235      0.115530       2.0              1.0  \n",
       "4    -0.081633     -0.058315     -0.006522       2.0              1.0  "
      ]
     },
     "execution_count": 14,
     "metadata": {},
     "output_type": "execute_result"
    }
   ],
   "source": [
    "after_analysis.head()"
   ]
  },
  {
   "cell_type": "markdown",
   "metadata": {},
   "source": [
    "### Append datasets"
   ]
  },
  {
   "cell_type": "code",
   "execution_count": 15,
   "metadata": {},
   "outputs": [],
   "source": [
    "full_data = b4_analysis.append(after_analysis)"
   ]
  },
  {
   "cell_type": "markdown",
   "metadata": {},
   "source": [
    "#### View data"
   ]
  },
  {
   "cell_type": "code",
   "execution_count": 16,
   "metadata": {},
   "outputs": [
    {
     "data": {
      "text/html": [
       "<div>\n",
       "<style scoped>\n",
       "    .dataframe tbody tr th:only-of-type {\n",
       "        vertical-align: middle;\n",
       "    }\n",
       "\n",
       "    .dataframe tbody tr th {\n",
       "        vertical-align: top;\n",
       "    }\n",
       "\n",
       "    .dataframe thead th {\n",
       "        text-align: right;\n",
       "    }\n",
       "</style>\n",
       "<table border=\"1\" class=\"dataframe\">\n",
       "  <thead>\n",
       "    <tr style=\"text-align: right;\">\n",
       "      <th></th>\n",
       "      <th>ticker</th>\n",
       "      <th>company</th>\n",
       "      <th>earnings_flag</th>\n",
       "      <th>pct_chng_t-7</th>\n",
       "      <th>pct_chng_t0</th>\n",
       "      <th>pct_chng_t+1</th>\n",
       "      <th>pct_chng_t+2</th>\n",
       "      <th>category</th>\n",
       "      <th>meets_threshold</th>\n",
       "    </tr>\n",
       "  </thead>\n",
       "  <tbody>\n",
       "    <tr>\n",
       "      <th>0</th>\n",
       "      <td>AAMC</td>\n",
       "      <td>Altisource Asset Management Corp</td>\n",
       "      <td>Before Market Open</td>\n",
       "      <td>-0.000870</td>\n",
       "      <td>-0.000870</td>\n",
       "      <td>0.000000</td>\n",
       "      <td>-0.056552</td>\n",
       "      <td>0.0</td>\n",
       "      <td>0.0</td>\n",
       "    </tr>\n",
       "    <tr>\n",
       "      <th>1</th>\n",
       "      <td>AES</td>\n",
       "      <td>AES Corp</td>\n",
       "      <td>Before Market Open</td>\n",
       "      <td>0.045059</td>\n",
       "      <td>0.046389</td>\n",
       "      <td>-0.024498</td>\n",
       "      <td>0.026705</td>\n",
       "      <td>2.0</td>\n",
       "      <td>1.0</td>\n",
       "    </tr>\n",
       "    <tr>\n",
       "      <th>2</th>\n",
       "      <td>ALE</td>\n",
       "      <td>ALLETE Inc</td>\n",
       "      <td>Before Market Open</td>\n",
       "      <td>0.121946</td>\n",
       "      <td>0.040121</td>\n",
       "      <td>0.027331</td>\n",
       "      <td>0.004130</td>\n",
       "      <td>1.0</td>\n",
       "      <td>1.0</td>\n",
       "    </tr>\n",
       "    <tr>\n",
       "      <th>3</th>\n",
       "      <td>ALLK</td>\n",
       "      <td>Allakos Inc</td>\n",
       "      <td>Before Market Open</td>\n",
       "      <td>0.095553</td>\n",
       "      <td>0.030306</td>\n",
       "      <td>0.021685</td>\n",
       "      <td>-0.031983</td>\n",
       "      <td>1.0</td>\n",
       "      <td>1.0</td>\n",
       "    </tr>\n",
       "    <tr>\n",
       "      <th>4</th>\n",
       "      <td>AMPH</td>\n",
       "      <td>Amphastar Pharmaceuticals Inc</td>\n",
       "      <td>Before Market Open</td>\n",
       "      <td>-0.044301</td>\n",
       "      <td>0.002405</td>\n",
       "      <td>-0.082813</td>\n",
       "      <td>-0.009995</td>\n",
       "      <td>4.0</td>\n",
       "      <td>1.0</td>\n",
       "    </tr>\n",
       "  </tbody>\n",
       "</table>\n",
       "</div>"
      ],
      "text/plain": [
       "  ticker                           company       earnings_flag  pct_chng_t-7  \\\n",
       "0   AAMC  Altisource Asset Management Corp  Before Market Open     -0.000870   \n",
       "1    AES                          AES Corp  Before Market Open      0.045059   \n",
       "2    ALE                        ALLETE Inc  Before Market Open      0.121946   \n",
       "3   ALLK                       Allakos Inc  Before Market Open      0.095553   \n",
       "4   AMPH     Amphastar Pharmaceuticals Inc  Before Market Open     -0.044301   \n",
       "\n",
       "   pct_chng_t0  pct_chng_t+1  pct_chng_t+2  category  meets_threshold  \n",
       "0    -0.000870      0.000000     -0.056552       0.0              0.0  \n",
       "1     0.046389     -0.024498      0.026705       2.0              1.0  \n",
       "2     0.040121      0.027331      0.004130       1.0              1.0  \n",
       "3     0.030306      0.021685     -0.031983       1.0              1.0  \n",
       "4     0.002405     -0.082813     -0.009995       4.0              1.0  "
      ]
     },
     "execution_count": 16,
     "metadata": {},
     "output_type": "execute_result"
    }
   ],
   "source": [
    "full_data.head()"
   ]
  },
  {
   "cell_type": "code",
   "execution_count": 17,
   "metadata": {},
   "outputs": [
    {
     "data": {
      "text/html": [
       "<div>\n",
       "<style scoped>\n",
       "    .dataframe tbody tr th:only-of-type {\n",
       "        vertical-align: middle;\n",
       "    }\n",
       "\n",
       "    .dataframe tbody tr th {\n",
       "        vertical-align: top;\n",
       "    }\n",
       "\n",
       "    .dataframe thead th {\n",
       "        text-align: right;\n",
       "    }\n",
       "</style>\n",
       "<table border=\"1\" class=\"dataframe\">\n",
       "  <thead>\n",
       "    <tr style=\"text-align: right;\">\n",
       "      <th></th>\n",
       "      <th>ticker</th>\n",
       "      <th>company</th>\n",
       "      <th>earnings_flag</th>\n",
       "      <th>pct_chng_t-7</th>\n",
       "      <th>pct_chng_t0</th>\n",
       "      <th>pct_chng_t+1</th>\n",
       "      <th>pct_chng_t+2</th>\n",
       "      <th>category</th>\n",
       "      <th>meets_threshold</th>\n",
       "    </tr>\n",
       "  </thead>\n",
       "  <tbody>\n",
       "    <tr>\n",
       "      <th>183</th>\n",
       "      <td>YALA</td>\n",
       "      <td>Yalla Group Ltd</td>\n",
       "      <td>After Market Close</td>\n",
       "      <td>0.332948</td>\n",
       "      <td>-0.047862</td>\n",
       "      <td>-0.032597</td>\n",
       "      <td>-0.032573</td>\n",
       "      <td>2.0</td>\n",
       "      <td>1.0</td>\n",
       "    </tr>\n",
       "    <tr>\n",
       "      <th>184</th>\n",
       "      <td>ZAGG</td>\n",
       "      <td>Zagg Inc</td>\n",
       "      <td>After Market Close</td>\n",
       "      <td>0.188811</td>\n",
       "      <td>0.082857</td>\n",
       "      <td>-0.051051</td>\n",
       "      <td>-0.003012</td>\n",
       "      <td>2.0</td>\n",
       "      <td>1.0</td>\n",
       "    </tr>\n",
       "    <tr>\n",
       "      <th>185</th>\n",
       "      <td>ZGNX</td>\n",
       "      <td>Zogenix Inc</td>\n",
       "      <td>After Market Close</td>\n",
       "      <td>0.101574</td>\n",
       "      <td>-0.036733</td>\n",
       "      <td>0.047860</td>\n",
       "      <td>-0.041707</td>\n",
       "      <td>1.0</td>\n",
       "      <td>1.0</td>\n",
       "    </tr>\n",
       "    <tr>\n",
       "      <th>186</th>\n",
       "      <td>ZI</td>\n",
       "      <td>ZoomInfo Technologies Inc</td>\n",
       "      <td>After Market Close</td>\n",
       "      <td>0.010284</td>\n",
       "      <td>-0.028889</td>\n",
       "      <td>-0.009975</td>\n",
       "      <td>0.025753</td>\n",
       "      <td>2.0</td>\n",
       "      <td>0.0</td>\n",
       "    </tr>\n",
       "    <tr>\n",
       "      <th>187</th>\n",
       "      <td>ZIXI</td>\n",
       "      <td>Zix Corp</td>\n",
       "      <td>After Market Close</td>\n",
       "      <td>0.133226</td>\n",
       "      <td>0.105333</td>\n",
       "      <td>-0.122755</td>\n",
       "      <td>0.002985</td>\n",
       "      <td>2.0</td>\n",
       "      <td>1.0</td>\n",
       "    </tr>\n",
       "  </tbody>\n",
       "</table>\n",
       "</div>"
      ],
      "text/plain": [
       "    ticker                    company       earnings_flag  pct_chng_t-7  \\\n",
       "183   YALA            Yalla Group Ltd  After Market Close      0.332948   \n",
       "184   ZAGG                   Zagg Inc  After Market Close      0.188811   \n",
       "185   ZGNX                Zogenix Inc  After Market Close      0.101574   \n",
       "186     ZI  ZoomInfo Technologies Inc  After Market Close      0.010284   \n",
       "187   ZIXI                   Zix Corp  After Market Close      0.133226   \n",
       "\n",
       "     pct_chng_t0  pct_chng_t+1  pct_chng_t+2  category  meets_threshold  \n",
       "183    -0.047862     -0.032597     -0.032573       2.0              1.0  \n",
       "184     0.082857     -0.051051     -0.003012       2.0              1.0  \n",
       "185    -0.036733      0.047860     -0.041707       1.0              1.0  \n",
       "186    -0.028889     -0.009975      0.025753       2.0              0.0  \n",
       "187     0.105333     -0.122755      0.002985       2.0              1.0  "
      ]
     },
     "execution_count": 17,
     "metadata": {},
     "output_type": "execute_result"
    }
   ],
   "source": [
    "full_data.tail()"
   ]
  },
  {
   "cell_type": "markdown",
   "metadata": {},
   "source": [
    "#### Get descriptions and information about dataset"
   ]
  },
  {
   "cell_type": "code",
   "execution_count": null,
   "metadata": {},
   "outputs": [],
   "source": [
    "full_data.info()"
   ]
  },
  {
   "cell_type": "code",
   "execution_count": null,
   "metadata": {},
   "outputs": [],
   "source": [
    "full_data.describe()"
   ]
  },
  {
   "cell_type": "markdown",
   "metadata": {},
   "source": [
    "# Category 3 Analysis"
   ]
  },
  {
   "cell_type": "markdown",
   "metadata": {},
   "source": [
    "### Filter data for:\n",
    "<ol>\n",
    "    <li> Meets pct change thershold is true </li>\n",
    "    <li> Category 3: Decrease in preceding week, increase in first trading day after announcement</li>"
   ]
  },
  {
   "cell_type": "code",
   "execution_count": 18,
   "metadata": {},
   "outputs": [],
   "source": [
    "curr_cat = 3"
   ]
  },
  {
   "cell_type": "code",
   "execution_count": 19,
   "metadata": {},
   "outputs": [],
   "source": [
    "cat_3_data = full_data[(full_data['category']==curr_cat) & (full_data['meets_threshold']==1)]"
   ]
  },
  {
   "cell_type": "markdown",
   "metadata": {},
   "source": [
    "#### View Category 3 data"
   ]
  },
  {
   "cell_type": "code",
   "execution_count": 20,
   "metadata": {},
   "outputs": [
    {
     "data": {
      "text/html": [
       "<div>\n",
       "<style scoped>\n",
       "    .dataframe tbody tr th:only-of-type {\n",
       "        vertical-align: middle;\n",
       "    }\n",
       "\n",
       "    .dataframe tbody tr th {\n",
       "        vertical-align: top;\n",
       "    }\n",
       "\n",
       "    .dataframe thead th {\n",
       "        text-align: right;\n",
       "    }\n",
       "</style>\n",
       "<table border=\"1\" class=\"dataframe\">\n",
       "  <thead>\n",
       "    <tr style=\"text-align: right;\">\n",
       "      <th></th>\n",
       "      <th>ticker</th>\n",
       "      <th>company</th>\n",
       "      <th>earnings_flag</th>\n",
       "      <th>pct_chng_t-7</th>\n",
       "      <th>pct_chng_t0</th>\n",
       "      <th>pct_chng_t+1</th>\n",
       "      <th>pct_chng_t+2</th>\n",
       "      <th>category</th>\n",
       "      <th>meets_threshold</th>\n",
       "    </tr>\n",
       "  </thead>\n",
       "  <tbody>\n",
       "    <tr>\n",
       "      <th>39</th>\n",
       "      <td>ELAN</td>\n",
       "      <td>Elanco Animal Health Inc</td>\n",
       "      <td>Before Market Open</td>\n",
       "      <td>-0.038718</td>\n",
       "      <td>-0.136967</td>\n",
       "      <td>0.079234</td>\n",
       "      <td>0.024791</td>\n",
       "      <td>3.0</td>\n",
       "      <td>1.0</td>\n",
       "    </tr>\n",
       "    <tr>\n",
       "      <th>40</th>\n",
       "      <td>ENG</td>\n",
       "      <td>ENGlobal Corp</td>\n",
       "      <td>Before Market Open</td>\n",
       "      <td>-0.035714</td>\n",
       "      <td>-0.050633</td>\n",
       "      <td>0.024691</td>\n",
       "      <td>-0.038462</td>\n",
       "      <td>3.0</td>\n",
       "      <td>1.0</td>\n",
       "    </tr>\n",
       "    <tr>\n",
       "      <th>14</th>\n",
       "      <td>ARCT</td>\n",
       "      <td>Arcturus Therapeutics Holdings Inc</td>\n",
       "      <td>After Market Close</td>\n",
       "      <td>-0.373801</td>\n",
       "      <td>-0.703226</td>\n",
       "      <td>0.055358</td>\n",
       "      <td>0.193694</td>\n",
       "      <td>3.0</td>\n",
       "      <td>1.0</td>\n",
       "    </tr>\n",
       "    <tr>\n",
       "      <th>18</th>\n",
       "      <td>ASUR</td>\n",
       "      <td>Asure Software Inc</td>\n",
       "      <td>After Market Close</td>\n",
       "      <td>-0.016393</td>\n",
       "      <td>-0.049550</td>\n",
       "      <td>0.041727</td>\n",
       "      <td>0.034722</td>\n",
       "      <td>3.0</td>\n",
       "      <td>1.0</td>\n",
       "    </tr>\n",
       "    <tr>\n",
       "      <th>81</th>\n",
       "      <td>IIN</td>\n",
       "      <td>IntriCon Corp</td>\n",
       "      <td>After Market Close</td>\n",
       "      <td>-0.024719</td>\n",
       "      <td>0.107793</td>\n",
       "      <td>0.076664</td>\n",
       "      <td>0.015232</td>\n",
       "      <td>3.0</td>\n",
       "      <td>1.0</td>\n",
       "    </tr>\n",
       "  </tbody>\n",
       "</table>\n",
       "</div>"
      ],
      "text/plain": [
       "   ticker                             company       earnings_flag  \\\n",
       "39   ELAN            Elanco Animal Health Inc  Before Market Open   \n",
       "40    ENG                       ENGlobal Corp  Before Market Open   \n",
       "14   ARCT  Arcturus Therapeutics Holdings Inc  After Market Close   \n",
       "18   ASUR                  Asure Software Inc  After Market Close   \n",
       "81    IIN                       IntriCon Corp  After Market Close   \n",
       "\n",
       "    pct_chng_t-7  pct_chng_t0  pct_chng_t+1  pct_chng_t+2  category  \\\n",
       "39     -0.038718    -0.136967      0.079234      0.024791       3.0   \n",
       "40     -0.035714    -0.050633      0.024691     -0.038462       3.0   \n",
       "14     -0.373801    -0.703226      0.055358      0.193694       3.0   \n",
       "18     -0.016393    -0.049550      0.041727      0.034722       3.0   \n",
       "81     -0.024719     0.107793      0.076664      0.015232       3.0   \n",
       "\n",
       "    meets_threshold  \n",
       "39              1.0  \n",
       "40              1.0  \n",
       "14              1.0  \n",
       "18              1.0  \n",
       "81              1.0  "
      ]
     },
     "execution_count": 20,
     "metadata": {},
     "output_type": "execute_result"
    }
   ],
   "source": [
    "cat_3_data.head()"
   ]
  },
  {
   "cell_type": "code",
   "execution_count": 21,
   "metadata": {},
   "outputs": [
    {
     "data": {
      "text/plain": [
       "(11, 9)"
      ]
     },
     "execution_count": 21,
     "metadata": {},
     "output_type": "execute_result"
    }
   ],
   "source": [
    "cat_3_data.shape"
   ]
  },
  {
   "cell_type": "code",
   "execution_count": 22,
   "metadata": {},
   "outputs": [],
   "source": [
    "IMP_COLS = [\n",
    "            'ticker',\n",
    "            'pct_chng_t-7',\n",
    "            'pct_chng_t0',\n",
    "            'pct_chng_t+1',\n",
    "            'pct_chng_t+2',\n",
    "    \n",
    "            ]"
   ]
  },
  {
   "cell_type": "code",
   "execution_count": 23,
   "metadata": {},
   "outputs": [
    {
     "data": {
      "text/html": [
       "<div>\n",
       "<style scoped>\n",
       "    .dataframe tbody tr th:only-of-type {\n",
       "        vertical-align: middle;\n",
       "    }\n",
       "\n",
       "    .dataframe tbody tr th {\n",
       "        vertical-align: top;\n",
       "    }\n",
       "\n",
       "    .dataframe thead th {\n",
       "        text-align: right;\n",
       "    }\n",
       "</style>\n",
       "<table border=\"1\" class=\"dataframe\">\n",
       "  <thead>\n",
       "    <tr style=\"text-align: right;\">\n",
       "      <th></th>\n",
       "      <th>ticker</th>\n",
       "      <th>pct_chng_t-7</th>\n",
       "      <th>pct_chng_t0</th>\n",
       "      <th>pct_chng_t+1</th>\n",
       "      <th>pct_chng_t+2</th>\n",
       "    </tr>\n",
       "  </thead>\n",
       "  <tbody>\n",
       "    <tr>\n",
       "      <th>39</th>\n",
       "      <td>ELAN</td>\n",
       "      <td>-0.038718</td>\n",
       "      <td>-0.136967</td>\n",
       "      <td>0.079234</td>\n",
       "      <td>0.024791</td>\n",
       "    </tr>\n",
       "    <tr>\n",
       "      <th>40</th>\n",
       "      <td>ENG</td>\n",
       "      <td>-0.035714</td>\n",
       "      <td>-0.050633</td>\n",
       "      <td>0.024691</td>\n",
       "      <td>-0.038462</td>\n",
       "    </tr>\n",
       "    <tr>\n",
       "      <th>14</th>\n",
       "      <td>ARCT</td>\n",
       "      <td>-0.373801</td>\n",
       "      <td>-0.703226</td>\n",
       "      <td>0.055358</td>\n",
       "      <td>0.193694</td>\n",
       "    </tr>\n",
       "    <tr>\n",
       "      <th>18</th>\n",
       "      <td>ASUR</td>\n",
       "      <td>-0.016393</td>\n",
       "      <td>-0.049550</td>\n",
       "      <td>0.041727</td>\n",
       "      <td>0.034722</td>\n",
       "    </tr>\n",
       "    <tr>\n",
       "      <th>81</th>\n",
       "      <td>IIN</td>\n",
       "      <td>-0.024719</td>\n",
       "      <td>0.107793</td>\n",
       "      <td>0.076664</td>\n",
       "      <td>0.015232</td>\n",
       "    </tr>\n",
       "  </tbody>\n",
       "</table>\n",
       "</div>"
      ],
      "text/plain": [
       "   ticker  pct_chng_t-7  pct_chng_t0  pct_chng_t+1  pct_chng_t+2\n",
       "39   ELAN     -0.038718    -0.136967      0.079234      0.024791\n",
       "40    ENG     -0.035714    -0.050633      0.024691     -0.038462\n",
       "14   ARCT     -0.373801    -0.703226      0.055358      0.193694\n",
       "18   ASUR     -0.016393    -0.049550      0.041727      0.034722\n",
       "81    IIN     -0.024719     0.107793      0.076664      0.015232"
      ]
     },
     "execution_count": 23,
     "metadata": {},
     "output_type": "execute_result"
    }
   ],
   "source": [
    "cat_3_df = cat_3_data[IMP_COLS].copy()\n",
    "cat_3_df.head()"
   ]
  },
  {
   "cell_type": "markdown",
   "metadata": {},
   "source": [
    "### Plot visualizations of dataset"
   ]
  },
  {
   "cell_type": "markdown",
   "metadata": {},
   "source": [
    "### Analysis:"
   ]
  },
  {
   "cell_type": "code",
   "execution_count": 24,
   "metadata": {},
   "outputs": [
    {
     "data": {
      "text/plain": [
       "<seaborn.axisgrid.PairGrid at 0x25e92b79400>"
      ]
     },
     "execution_count": 24,
     "metadata": {},
     "output_type": "execute_result"
    },
    {
     "data": {
      "image/png": "[encoded data removed]",
      "text/plain": [
       "<Figure size 1058.4x504 with 3 Axes>"
      ]
     },
     "metadata": {
      "needs_background": "light"
     },
     "output_type": "display_data"
    }
   ],
   "source": [
    "# visualize the relationship between the features and the response using scatterplots\n",
    "sns.pairplot(cat_3_df, x_vars=['pct_chng_t-7','pct_chng_t0','pct_chng_t+1'], y_vars = 'pct_chng_t+2',height=7,aspect=0.7)"
   ]
  },
  {
   "cell_type": "markdown",
   "metadata": {},
   "source": [
    "### Explore the correlation coefficients"
   ]
  },
  {
   "cell_type": "markdown",
   "metadata": {},
   "source": [
    "### Correlation Analysis: Category 3\n",
    "<ol>\n",
    "    <li> Observation:strong negative corrlelation b/t t-7 and t+2 Highest correlation score </li>\n",
    "    <li> Observation:strong negative corrlelation b/t t0 and t+2 </li>\n",
    "    <li> Observation:no strong corrlelation b/t t+1 and t+2. </li>\n",
    "</ol>"
   ]
  },
  {
   "cell_type": "code",
   "execution_count": 25,
   "metadata": {},
   "outputs": [
    {
     "data": {
      "text/html": [
       "<div>\n",
       "<style scoped>\n",
       "    .dataframe tbody tr th:only-of-type {\n",
       "        vertical-align: middle;\n",
       "    }\n",
       "\n",
       "    .dataframe tbody tr th {\n",
       "        vertical-align: top;\n",
       "    }\n",
       "\n",
       "    .dataframe thead th {\n",
       "        text-align: right;\n",
       "    }\n",
       "</style>\n",
       "<table border=\"1\" class=\"dataframe\">\n",
       "  <thead>\n",
       "    <tr style=\"text-align: right;\">\n",
       "      <th></th>\n",
       "      <th>pct_chng_t-7</th>\n",
       "      <th>pct_chng_t0</th>\n",
       "      <th>pct_chng_t+1</th>\n",
       "      <th>pct_chng_t+2</th>\n",
       "    </tr>\n",
       "  </thead>\n",
       "  <tbody>\n",
       "    <tr>\n",
       "      <th>pct_chng_t-7</th>\n",
       "      <td>1.000000</td>\n",
       "      <td>0.958368</td>\n",
       "      <td>-0.020561</td>\n",
       "      <td>-0.873301</td>\n",
       "    </tr>\n",
       "    <tr>\n",
       "      <th>pct_chng_t0</th>\n",
       "      <td>0.958368</td>\n",
       "      <td>1.000000</td>\n",
       "      <td>-0.006079</td>\n",
       "      <td>-0.799415</td>\n",
       "    </tr>\n",
       "    <tr>\n",
       "      <th>pct_chng_t+1</th>\n",
       "      <td>-0.020561</td>\n",
       "      <td>-0.006079</td>\n",
       "      <td>1.000000</td>\n",
       "      <td>0.283144</td>\n",
       "    </tr>\n",
       "    <tr>\n",
       "      <th>pct_chng_t+2</th>\n",
       "      <td>-0.873301</td>\n",
       "      <td>-0.799415</td>\n",
       "      <td>0.283144</td>\n",
       "      <td>1.000000</td>\n",
       "    </tr>\n",
       "  </tbody>\n",
       "</table>\n",
       "</div>"
      ],
      "text/plain": [
       "              pct_chng_t-7  pct_chng_t0  pct_chng_t+1  pct_chng_t+2\n",
       "pct_chng_t-7      1.000000     0.958368     -0.020561     -0.873301\n",
       "pct_chng_t0       0.958368     1.000000     -0.006079     -0.799415\n",
       "pct_chng_t+1     -0.020561    -0.006079      1.000000      0.283144\n",
       "pct_chng_t+2     -0.873301    -0.799415      0.283144      1.000000"
      ]
     },
     "execution_count": 25,
     "metadata": {},
     "output_type": "execute_result"
    }
   ],
   "source": [
    "# Compute the correlation matrix\n",
    "corr = cat_3_df.corr()\n",
    "corr"
   ]
  },
  {
   "cell_type": "code",
   "execution_count": 26,
   "metadata": {},
   "outputs": [
    {
     "data": {
      "image/png": "[encoded data removed]",
      "text/plain": [
       "<Figure size 1008x648 with 2 Axes>"
      ]
     },
     "metadata": {
      "needs_background": "light"
     },
     "output_type": "display_data"
    }
   ],
   "source": [
    "fig, ax = plt.subplots(figsize=(14,9))\n",
    "sns.heatmap(corr, annot=True, linewidths=.5,square=True, ax=ax)\n",
    "plt.show()"
   ]
  },
  {
   "cell_type": "markdown",
   "metadata": {},
   "source": [
    "# Train Machine Learning Models"
   ]
  },
  {
   "cell_type": "markdown",
   "metadata": {},
   "source": [
    "#### Drop 'ticker' colmn to perform ML"
   ]
  },
  {
   "cell_type": "code",
   "execution_count": 27,
   "metadata": {},
   "outputs": [
    {
     "data": {
      "text/html": [
       "<div>\n",
       "<style scoped>\n",
       "    .dataframe tbody tr th:only-of-type {\n",
       "        vertical-align: middle;\n",
       "    }\n",
       "\n",
       "    .dataframe tbody tr th {\n",
       "        vertical-align: top;\n",
       "    }\n",
       "\n",
       "    .dataframe thead th {\n",
       "        text-align: right;\n",
       "    }\n",
       "</style>\n",
       "<table border=\"1\" class=\"dataframe\">\n",
       "  <thead>\n",
       "    <tr style=\"text-align: right;\">\n",
       "      <th></th>\n",
       "      <th>pct_chng_t-7</th>\n",
       "      <th>pct_chng_t0</th>\n",
       "      <th>pct_chng_t+1</th>\n",
       "      <th>pct_chng_t+2</th>\n",
       "    </tr>\n",
       "  </thead>\n",
       "  <tbody>\n",
       "    <tr>\n",
       "      <th>39</th>\n",
       "      <td>-0.038718</td>\n",
       "      <td>-0.136967</td>\n",
       "      <td>0.079234</td>\n",
       "      <td>0.024791</td>\n",
       "    </tr>\n",
       "    <tr>\n",
       "      <th>40</th>\n",
       "      <td>-0.035714</td>\n",
       "      <td>-0.050633</td>\n",
       "      <td>0.024691</td>\n",
       "      <td>-0.038462</td>\n",
       "    </tr>\n",
       "    <tr>\n",
       "      <th>14</th>\n",
       "      <td>-0.373801</td>\n",
       "      <td>-0.703226</td>\n",
       "      <td>0.055358</td>\n",
       "      <td>0.193694</td>\n",
       "    </tr>\n",
       "    <tr>\n",
       "      <th>18</th>\n",
       "      <td>-0.016393</td>\n",
       "      <td>-0.049550</td>\n",
       "      <td>0.041727</td>\n",
       "      <td>0.034722</td>\n",
       "    </tr>\n",
       "    <tr>\n",
       "      <th>81</th>\n",
       "      <td>-0.024719</td>\n",
       "      <td>0.107793</td>\n",
       "      <td>0.076664</td>\n",
       "      <td>0.015232</td>\n",
       "    </tr>\n",
       "  </tbody>\n",
       "</table>\n",
       "</div>"
      ],
      "text/plain": [
       "    pct_chng_t-7  pct_chng_t0  pct_chng_t+1  pct_chng_t+2\n",
       "39     -0.038718    -0.136967      0.079234      0.024791\n",
       "40     -0.035714    -0.050633      0.024691     -0.038462\n",
       "14     -0.373801    -0.703226      0.055358      0.193694\n",
       "18     -0.016393    -0.049550      0.041727      0.034722\n",
       "81     -0.024719     0.107793      0.076664      0.015232"
      ]
     },
     "execution_count": 27,
     "metadata": {},
     "output_type": "execute_result"
    }
   ],
   "source": [
    "ml_data = cat_3_df.drop('ticker',axis=1)\n",
    "ml_data.head()"
   ]
  },
  {
   "cell_type": "markdown",
   "metadata": {},
   "source": [
    "#### Split the data"
   ]
  },
  {
   "cell_type": "code",
   "execution_count": 28,
   "metadata": {},
   "outputs": [],
   "source": [
    "X = ml_data.drop('pct_chng_t+2',axis=1)\n",
    "y = ml_data[['pct_chng_t+2']]"
   ]
  },
  {
   "cell_type": "code",
   "execution_count": 29,
   "metadata": {},
   "outputs": [],
   "source": [
    "from sklearn.model_selection import train_test_split"
   ]
  },
  {
   "cell_type": "code",
   "execution_count": 30,
   "metadata": {},
   "outputs": [],
   "source": [
    "# Split X and y into X_\n",
    "X_train, X_test, y_train, y_test = train_test_split(X, y, test_size=0.25, random_state=1)"
   ]
  },
  {
   "cell_type": "markdown",
   "metadata": {},
   "source": [
    "### 1. Linear Regression"
   ]
  },
  {
   "cell_type": "code",
   "execution_count": 31,
   "metadata": {},
   "outputs": [],
   "source": [
    "from sklearn.linear_model import LinearRegression"
   ]
  },
  {
   "cell_type": "markdown",
   "metadata": {},
   "source": [
    "#### Init and Fit model"
   ]
  },
  {
   "cell_type": "code",
   "execution_count": 32,
   "metadata": {},
   "outputs": [
    {
     "data": {
      "text/plain": [
       "LinearRegression()"
      ]
     },
     "execution_count": 32,
     "metadata": {},
     "output_type": "execute_result"
    }
   ],
   "source": [
    "regression_model = LinearRegression()\n",
    "regression_model.fit(X_train, y_train)"
   ]
  },
  {
   "cell_type": "markdown",
   "metadata": {},
   "source": [
    "#### View Model coefficients"
   ]
  },
  {
   "cell_type": "code",
   "execution_count": 33,
   "metadata": {},
   "outputs": [
    {
     "name": "stdout",
     "output_type": "stream",
     "text": [
      "The coefficient for pct_chng_t-7 is -0.4809660368256796\n",
      "The coefficient for pct_chng_t0 is 0.2760348222475819\n",
      "The coefficient for pct_chng_t+1 is 0.7289720470371838\n"
     ]
    }
   ],
   "source": [
    "for idx, col_name in enumerate(X_train.columns):\n",
    "    print(\"The coefficient for {} is {}\".format(col_name, regression_model.coef_[0][idx]))"
   ]
  },
  {
   "cell_type": "markdown",
   "metadata": {},
   "source": [
    "#### View Model Intercept"
   ]
  },
  {
   "cell_type": "code",
   "execution_count": 34,
   "metadata": {},
   "outputs": [],
   "source": [
    "intercept = regression_model.intercept_[0]"
   ]
  },
  {
   "cell_type": "code",
   "execution_count": 35,
   "metadata": {},
   "outputs": [
    {
     "name": "stdout",
     "output_type": "stream",
     "text": [
      "The intercept for our model is -0.03712863516829502\n"
     ]
    }
   ],
   "source": [
    "print(\"The intercept for our model is {}\".format(intercept))"
   ]
  },
  {
   "cell_type": "markdown",
   "metadata": {},
   "source": [
    "#### Score model using R squared"
   ]
  },
  {
   "cell_type": "code",
   "execution_count": 36,
   "metadata": {},
   "outputs": [
    {
     "data": {
      "text/plain": [
       "-1.4110608267221165"
      ]
     },
     "execution_count": 36,
     "metadata": {},
     "output_type": "execute_result"
    }
   ],
   "source": [
    "regression_model.score(X_test, y_test)"
   ]
  },
  {
   "cell_type": "markdown",
   "metadata": {},
   "source": [
    "<p>Note that it is possible to get a negative R-square for equations that do not contain a constant term. Because R-square is defined as the proportion of variance explained by the fit, if the fit is actually worse than just fitting a horizontal line then R-square is negative. In this case, R-square cannot be interpreted as the square of a correlation. Such situations indicate that a constant term should be added to the model.</p>"
   ]
  },
  {
   "cell_type": "markdown",
   "metadata": {},
   "source": [
    "### Make predictions and get mse"
   ]
  },
  {
   "cell_type": "code",
   "execution_count": 37,
   "metadata": {},
   "outputs": [],
   "source": [
    "from sklearn.metrics import mean_squared_error\n",
    "import math"
   ]
  },
  {
   "cell_type": "code",
   "execution_count": 38,
   "metadata": {},
   "outputs": [],
   "source": [
    "y_predict = regression_model.predict(X_test)"
   ]
  },
  {
   "cell_type": "code",
   "execution_count": 39,
   "metadata": {},
   "outputs": [],
   "source": [
    "regression_model_mse = mean_squared_error(y_predict, y_test)"
   ]
  },
  {
   "cell_type": "code",
   "execution_count": 40,
   "metadata": {},
   "outputs": [
    {
     "data": {
      "text/plain": [
       "0.01540411531091924"
      ]
     },
     "execution_count": 40,
     "metadata": {},
     "output_type": "execute_result"
    }
   ],
   "source": [
    "regression_model_mse"
   ]
  },
  {
   "cell_type": "code",
   "execution_count": 41,
   "metadata": {},
   "outputs": [
    {
     "data": {
      "text/plain": [
       "0.12411331641253988"
      ]
     },
     "execution_count": 41,
     "metadata": {},
     "output_type": "execute_result"
    }
   ],
   "source": [
    "math.sqrt(regression_model_mse)"
   ]
  },
  {
   "cell_type": "markdown",
   "metadata": {},
   "source": [
    "## Conclusion:\n",
    "\n",
    "<p>So we are an average of 0.12 percentage change away from the ground truth percentage change when making predictions on our test set.</p>"
   ]
  },
  {
   "cell_type": "code",
   "execution_count": null,
   "metadata": {},
   "outputs": [],
   "source": []
  }
 ],
 "metadata": {
  "kernelspec": {
   "display_name": "Python 3",
   "language": "python",
   "name": "python3"
  },
  "language_info": {
   "codemirror_mode": {
    "name": "ipython",
    "version": 3
   },
   "file_extension": ".py",
   "mimetype": "text/x-python",
   "name": "python",
   "nbconvert_exporter": "python",
   "pygments_lexer": "ipython3",
   "version": "3.8.3"
  }
 },
 "nbformat": 4,
 "nbformat_minor": 2
}
